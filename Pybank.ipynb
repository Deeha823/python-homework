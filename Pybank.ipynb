{
 "cells": [
  {
   "cell_type": "code",
   "execution_count": 1,
   "id": "4de5c374-f3a8-4819-a9d7-8fd13ca87b02",
   "metadata": {},
   "outputs": [],
   "source": [
    "import csv\n",
    "from pathlib import Path"
   ]
  },
  {
   "cell_type": "code",
   "execution_count": 2,
   "id": "ee1ebaa9-17f8-49e9-8f2a-19a76f4f3086",
   "metadata": {},
   "outputs": [],
   "source": [
    "file_to_load = Path(\"Resources/budget_data.csv\")"
   ]
  },
  {
   "cell_type": "code",
   "execution_count": 3,
   "id": "0a9fc3af-f4c0-41b5-9c1a-e55b4de34057",
   "metadata": {},
   "outputs": [],
   "source": [
    "# Track various financial parameters\n",
    "total_months = 0\n",
    "month_of_change = []\n",
    "net_change_list = []\n",
    "greatest_increase = [\"\", 0]\n",
    "greatest_decrease = [\"\", 9999999999999999999]\n",
    "total_net = 0"
   ]
  },
  {
   "cell_type": "code",
   "execution_count": 4,
   "id": "e6467371-1b07-4a31-bcaa-549e787fa52f",
   "metadata": {},
   "outputs": [],
   "source": [
    "with open(file_to_load) as financial_data:\n",
    "    reader = csv.reader(financial_data)\n",
    "    \n",
    "    header = next(reader)\n",
    "    first_row = next(reader)\n",
    "    total_months = total_months+1\n",
    "    total_net = total_net+ int(first_row[1])\n",
    "    prev_next = int(first_row[1])\n",
    "    \n",
    "    for line in reader:\n",
    "        total_months = total_months+1\n",
    "        total_net = total_net+ int(line[1])\n",
    "        \n",
    "        net_change = int(line[1]) - prev_next\n",
    "        prev_next = int(line[1])\n",
    "        net_change_list.append(net_change)\n",
    "        month_of_change.append(line[0])\n",
    "        \n",
    "        if net_change > greatest_increase[1]:\n",
    "            greatest_increase[0] = line[0]\n",
    "            greatest_increase[1] = net_change\n",
    "        if net_change < greatest_decrease[1]:\n",
    "            greatest_decrease[0] = line[0]\n",
    "            greatest_decrease[1] = net_change"
   ]
  },
  {
   "cell_type": "code",
   "execution_count": 5,
   "id": "5a2233b7-2c66-42ac-b917-050ab768f6e8",
   "metadata": {},
   "outputs": [],
   "source": [
    "net_monthly_avg = round(sum(net_change_list)/len(net_change_list),2)"
   ]
  },
  {
   "cell_type": "code",
   "execution_count": 7,
   "id": "857b3a00-8cb0-454d-8663-28ded5cb6ca8",
   "metadata": {},
   "outputs": [],
   "source": [
    "file_to_output = Path(\"Resources/budget_analysis.txt\")\n",
    "\n",
    "with open(file_to_output, \"w\") as txt_file:\n",
    "    txt_file.write(f\"Financial Analysis\\n\")\n",
    "    txt_file.write(f\"----------------------------\\n\")\n",
    "    txt_file.write(f\"Total Months: {total_months}\\n\")\n",
    "    txt_file.write(f\"Total: ${total_net}\\n\")\n",
    "    txt_file.write(f\"Average  Change: ${net_monthly_avg}\\n\")\n",
    "    txt_file.write(f\"Greatest Increase in Profits: {greatest_increase[0]} (${greatest_increase[1]})\\n\")\n",
    "    txt_file.write(f\"Greatest Decrease in Profits: {greatest_decrease[0]} (${greatest_decrease[1]})\\n\")\n",
    "\n",
    "\n"
   ]
  },
  {
   "cell_type": "code",
   "execution_count": null,
   "id": "96e03454-01d7-492a-bf3f-816fd97a178f",
   "metadata": {},
   "outputs": [],
   "source": []
  }
 ],
 "metadata": {
  "kernelspec": {
   "display_name": "Python 3 (ipykernel)",
   "language": "python",
   "name": "python3"
  },
  "language_info": {
   "codemirror_mode": {
    "name": "ipython",
    "version": 3
   },
   "file_extension": ".py",
   "mimetype": "text/x-python",
   "name": "python",
   "nbconvert_exporter": "python",
   "pygments_lexer": "ipython3",
   "version": "3.7.11"
  }
 },
 "nbformat": 4,
 "nbformat_minor": 5
}
